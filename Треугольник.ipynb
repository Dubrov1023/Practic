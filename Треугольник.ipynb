{
 "cells": [
  {
   "cell_type": "code",
   "execution_count": 22,
   "id": "05a44665",
   "metadata": {},
   "outputs": [
    {
     "name": "stdout",
     "output_type": "stream",
     "text": [
      "Сторона 1 = \n",
      "26\n",
      "Сторона 2 = \n",
      "13\n",
      "Сторона 3 = \n",
      "14\n",
      "Тупоугольный\n"
     ]
    }
   ],
   "source": [
    "print (\"Сторона 1 = \");\n",
    "storona1 = float(input());\n",
    "print (\"Сторона 2 = \");\n",
    "storona2 = float(input());\n",
    "print (\"Сторона 3 = \");\n",
    "storona3 = float(input());\n",
    "## ищем максимум\n",
    "if (storona1 > storona3) :\n",
    "    a = storona1;\n",
    "    storona1 = storona3;\n",
    "    storona3 = a;\n",
    "if (storona2 > storona3) :\n",
    "    a = storona2;\n",
    "    storona2 = storona3;\n",
    "    storona3 = a;\n",
    "if (storona3)>(storona2 + storona1):\n",
    "    print(\"Нельзя построить треугольник с такими сторонами\");\n",
    "if (storona3*storona3)<(storona2*storona2 + storona1*storona1):\n",
    "    print(\"Остроугольный\");\n",
    "if (storona3*storona3)>(storona2*storona2 + storona1*storona1):\n",
    "    print(\"Тупоугольный\");\n",
    "if (storona3*storona3)==(storona2*storona2 + storona1*storona1):\n",
    "    print(\"Прямоугольный\");"
   ]
  }
 ],
 "metadata": {
  "kernelspec": {
   "display_name": "Python 3 (ipykernel)",
   "language": "python",
   "name": "python3"
  },
  "language_info": {
   "codemirror_mode": {
    "name": "ipython",
    "version": 3
   },
   "file_extension": ".py",
   "mimetype": "text/x-python",
   "name": "python",
   "nbconvert_exporter": "python",
   "pygments_lexer": "ipython3",
   "version": "3.9.7"
  }
 },
 "nbformat": 4,
 "nbformat_minor": 5
}
